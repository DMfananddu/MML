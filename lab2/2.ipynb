{
 "cells": [
  {
   "cell_type": "code",
   "execution_count": 197,
   "metadata": {},
   "outputs": [],
   "source": [
    "import numpy as np\n",
    "import pandas as pd\n",
    "import seaborn as sns\n",
    "import matplotlib.pyplot as plt\n",
    "from sklearn.preprocessing import OrdinalEncoder, LabelEncoder\n",
    "from sklearn.impute import MissingIndicator, SimpleImputer, KNNImputer\n",
    "import scipy.stats as stats\n",
    "\n",
    "%matplotlib inline"
   ]
  },
  {
   "cell_type": "code",
   "execution_count": 198,
   "metadata": {},
   "outputs": [],
   "source": [
    "data = pd.read_csv('./vgsales.csv', sep=',', encoding=\"utf-8\")"
   ]
  },
  {
   "cell_type": "code",
   "execution_count": 199,
   "metadata": {},
   "outputs": [
    {
     "data": {
      "text/plain": [
       "(16598, 11)"
      ]
     },
     "execution_count": 199,
     "metadata": {},
     "output_type": "execute_result"
    }
   ],
   "source": [
    "data.shape\n",
    "#data.dtypes\n",
    "#print(9)"
   ]
  },
  {
   "cell_type": "code",
   "execution_count": 200,
   "metadata": {},
   "outputs": [
    {
     "data": {
      "text/html": [
       "<div>\n",
       "<style scoped>\n",
       "    .dataframe tbody tr th:only-of-type {\n",
       "        vertical-align: middle;\n",
       "    }\n",
       "\n",
       "    .dataframe tbody tr th {\n",
       "        vertical-align: top;\n",
       "    }\n",
       "\n",
       "    .dataframe thead th {\n",
       "        text-align: right;\n",
       "    }\n",
       "</style>\n",
       "<table border=\"1\" class=\"dataframe\">\n",
       "  <thead>\n",
       "    <tr style=\"text-align: right;\">\n",
       "      <th></th>\n",
       "      <th>Rank</th>\n",
       "      <th>Name</th>\n",
       "      <th>Platform</th>\n",
       "      <th>Year</th>\n",
       "      <th>Genre</th>\n",
       "      <th>Publisher</th>\n",
       "      <th>NA_Sales</th>\n",
       "      <th>EU_Sales</th>\n",
       "      <th>JP_Sales</th>\n",
       "      <th>Other_Sales</th>\n",
       "      <th>Global_Sales</th>\n",
       "    </tr>\n",
       "  </thead>\n",
       "  <tbody>\n",
       "    <tr>\n",
       "      <th>0</th>\n",
       "      <td>1</td>\n",
       "      <td>Wii Sports</td>\n",
       "      <td>Wii</td>\n",
       "      <td>2006.0</td>\n",
       "      <td>Sports</td>\n",
       "      <td>Nintendo</td>\n",
       "      <td>41.49</td>\n",
       "      <td>29.02</td>\n",
       "      <td>3.77</td>\n",
       "      <td>8.46</td>\n",
       "      <td>82.74</td>\n",
       "    </tr>\n",
       "    <tr>\n",
       "      <th>1</th>\n",
       "      <td>2</td>\n",
       "      <td>Super Mario Bros.</td>\n",
       "      <td>NES</td>\n",
       "      <td>1985.0</td>\n",
       "      <td>Platform</td>\n",
       "      <td>Nintendo</td>\n",
       "      <td>29.08</td>\n",
       "      <td>3.58</td>\n",
       "      <td>6.81</td>\n",
       "      <td>0.77</td>\n",
       "      <td>40.24</td>\n",
       "    </tr>\n",
       "    <tr>\n",
       "      <th>2</th>\n",
       "      <td>3</td>\n",
       "      <td>Mario Kart Wii</td>\n",
       "      <td>Wii</td>\n",
       "      <td>2008.0</td>\n",
       "      <td>Racing</td>\n",
       "      <td>Nintendo</td>\n",
       "      <td>15.85</td>\n",
       "      <td>12.88</td>\n",
       "      <td>3.79</td>\n",
       "      <td>3.31</td>\n",
       "      <td>35.82</td>\n",
       "    </tr>\n",
       "    <tr>\n",
       "      <th>3</th>\n",
       "      <td>4</td>\n",
       "      <td>Wii Sports Resort</td>\n",
       "      <td>Wii</td>\n",
       "      <td>2009.0</td>\n",
       "      <td>Sports</td>\n",
       "      <td>Nintendo</td>\n",
       "      <td>15.75</td>\n",
       "      <td>11.01</td>\n",
       "      <td>3.28</td>\n",
       "      <td>2.96</td>\n",
       "      <td>33.00</td>\n",
       "    </tr>\n",
       "    <tr>\n",
       "      <th>4</th>\n",
       "      <td>5</td>\n",
       "      <td>Pokemon Red/Pokemon Blue</td>\n",
       "      <td>GB</td>\n",
       "      <td>1996.0</td>\n",
       "      <td>Role-Playing</td>\n",
       "      <td>Nintendo</td>\n",
       "      <td>11.27</td>\n",
       "      <td>8.89</td>\n",
       "      <td>10.22</td>\n",
       "      <td>1.00</td>\n",
       "      <td>31.37</td>\n",
       "    </tr>\n",
       "  </tbody>\n",
       "</table>\n",
       "</div>"
      ],
      "text/plain": [
       "   Rank                      Name Platform    Year         Genre Publisher  \\\n",
       "0     1                Wii Sports      Wii  2006.0        Sports  Nintendo   \n",
       "1     2         Super Mario Bros.      NES  1985.0      Platform  Nintendo   \n",
       "2     3            Mario Kart Wii      Wii  2008.0        Racing  Nintendo   \n",
       "3     4         Wii Sports Resort      Wii  2009.0        Sports  Nintendo   \n",
       "4     5  Pokemon Red/Pokemon Blue       GB  1996.0  Role-Playing  Nintendo   \n",
       "\n",
       "   NA_Sales  EU_Sales  JP_Sales  Other_Sales  Global_Sales  \n",
       "0     41.49     29.02      3.77         8.46         82.74  \n",
       "1     29.08      3.58      6.81         0.77         40.24  \n",
       "2     15.85     12.88      3.79         3.31         35.82  \n",
       "3     15.75     11.01      3.28         2.96         33.00  \n",
       "4     11.27      8.89     10.22         1.00         31.37  "
      ]
     },
     "execution_count": 200,
     "metadata": {},
     "output_type": "execute_result"
    }
   ],
   "source": [
    "data.head()"
   ]
  },
  {
   "cell_type": "code",
   "execution_count": 201,
   "metadata": {},
   "outputs": [
    {
     "data": {
      "text/plain": [
       "Rank              0\n",
       "Name              0\n",
       "Platform          0\n",
       "Year            271\n",
       "Genre             0\n",
       "Publisher        58\n",
       "NA_Sales          0\n",
       "EU_Sales          0\n",
       "JP_Sales          0\n",
       "Other_Sales       0\n",
       "Global_Sales      0\n",
       "dtype: int64"
      ]
     },
     "execution_count": 201,
     "metadata": {},
     "output_type": "execute_result"
    }
   ],
   "source": [
    "data.isnull().sum()\n",
    "#data = data.drop(data[data[\"Year\"].isnull()].index)\n",
    "#data = data.drop(data[data[\"Publisher\"].isnull()].index)"
   ]
  },
  {
   "cell_type": "code",
   "execution_count": 202,
   "metadata": {},
   "outputs": [
    {
     "data": {
      "text/plain": [
       "(16291, 2)"
      ]
     },
     "execution_count": 202,
     "metadata": {},
     "output_type": "execute_result"
    }
   ],
   "source": [
    "# Удаление пропусков\n",
    "data_drop = data[['Year', 'Publisher']].dropna()\n",
    "data_drop.shape"
   ]
  },
  {
   "cell_type": "code",
   "execution_count": 203,
   "metadata": {},
   "outputs": [],
   "source": [
    "def plot_hist_diff(old_ds, new_ds, c):\n",
    "    \"\"\"\n",
    "    Разница между распределениями до и после устранения пропусков\n",
    "    \"\"\"\n",
    "    fig = plt.figure()\n",
    "    ax = fig.add_subplot(111)\n",
    "    ax.title.set_text('Поле - ' + str(c))\n",
    "    old_ds[c].hist(bins=50, ax=ax, density=True, color='blue')\n",
    "    new_ds[c].hist(bins=50, ax=ax, color='orange', density=True)\n",
    "    plt.show()"
   ]
  },
  {
   "cell_type": "code",
   "execution_count": 204,
   "metadata": {},
   "outputs": [
    {
     "data": {
      "image/png": "[encoded data removed]",
      "text/plain": [
       "<Figure size 432x288 with 1 Axes>"
      ]
     },
     "metadata": {
      "needs_background": "light"
     },
     "output_type": "display_data"
    }
   ],
   "source": [
    "plot_hist_diff(data, data_drop, 'Year')"
   ]
  },
  {
   "cell_type": "code",
   "execution_count": 205,
   "metadata": {},
   "outputs": [
    {
     "data": {
      "text/plain": [
       "(16540, 11)"
      ]
     },
     "execution_count": 205,
     "metadata": {},
     "output_type": "execute_result"
    }
   ],
   "source": [
    "#почему-то не работает\n",
    "#plot_hist_diff(data, data_drop, 'Publisher')\n",
    "data = data.drop(data[data['Publisher'].isnull()].index)\n",
    "data.shape"
   ]
  },
  {
   "cell_type": "code",
   "execution_count": 206,
   "metadata": {},
   "outputs": [],
   "source": [
    "def impute_column(dataset, column, strategy_param, fill_value_param=None):\n",
    "    \"\"\"\n",
    "    Заполнение пропусков в одном признаке\n",
    "    \"\"\"\n",
    "    temp_data = dataset[[column]].values\n",
    "    size = temp_data.shape[0]\n",
    "    \n",
    "    indicator = MissingIndicator()\n",
    "    mask_missing_values_only = indicator.fit_transform(temp_data)\n",
    "    \n",
    "    imputer = SimpleImputer(strategy=strategy_param, \n",
    "                            fill_value=fill_value_param)\n",
    "    all_data = imputer.fit_transform(temp_data)\n",
    "    \n",
    "    missed_data = temp_data[mask_missing_values_only]\n",
    "    filled_data = all_data[mask_missing_values_only]\n",
    "    \n",
    "    return all_data.reshape((size,)), filled_data, missed_data"
   ]
  },
  {
   "cell_type": "code",
   "execution_count": 207,
   "metadata": {},
   "outputs": [],
   "source": [
    "def research_impute_numeric_column(dataset, num_column, const_value=None):\n",
    "    strategy_params = ['mean', 'median', 'most_frequent', 'constant']\n",
    "    strategy_params_names = ['Среднее', 'Медиана', 'Мода']\n",
    "    strategy_params_names.append('Константа = ' + str(const_value))\n",
    "    \n",
    "    original_temp_data = dataset[[num_column]].values\n",
    "    size = original_temp_data.shape[0]\n",
    "    original_data = original_temp_data.reshape((size,))\n",
    "    \n",
    "    new_df = pd.DataFrame({'Исходные данные':original_data})\n",
    "       \n",
    "    for i in range(len(strategy_params)):\n",
    "        strategy = strategy_params[i]\n",
    "        col_name = strategy_params_names[i]\n",
    "        if (strategy!='constant') or (strategy == 'constant' and const_value!=None):\n",
    "            if strategy == 'constant':\n",
    "                temp_data, _, _ = impute_column(dataset, num_column, strategy, fill_value_param=const_value)\n",
    "            else:\n",
    "                temp_data, _, _ = impute_column(dataset, num_column, strategy)\n",
    "            new_df[col_name] = temp_data\n",
    "        \n",
    "    sns.kdeplot(data=new_df)"
   ]
  },
  {
   "cell_type": "code",
   "execution_count": 208,
   "metadata": {},
   "outputs": [],
   "source": [
    "#почему-то не рабтоает\n",
    "#research_impute_numeric_column(data, 'Year')"
   ]
  },
  {
   "cell_type": "code",
   "execution_count": 209,
   "metadata": {},
   "outputs": [
    {
     "data": {
      "text/html": [
       "<div>\n",
       "<style scoped>\n",
       "    .dataframe tbody tr th:only-of-type {\n",
       "        vertical-align: middle;\n",
       "    }\n",
       "\n",
       "    .dataframe tbody tr th {\n",
       "        vertical-align: top;\n",
       "    }\n",
       "\n",
       "    .dataframe thead th {\n",
       "        text-align: right;\n",
       "    }\n",
       "</style>\n",
       "<table border=\"1\" class=\"dataframe\">\n",
       "  <thead>\n",
       "    <tr style=\"text-align: right;\">\n",
       "      <th></th>\n",
       "      <th>Year</th>\n",
       "    </tr>\n",
       "  </thead>\n",
       "  <tbody>\n",
       "    <tr>\n",
       "      <th>0</th>\n",
       "      <td>2006.0</td>\n",
       "    </tr>\n",
       "    <tr>\n",
       "      <th>1</th>\n",
       "      <td>1985.0</td>\n",
       "    </tr>\n",
       "    <tr>\n",
       "      <th>2</th>\n",
       "      <td>2008.0</td>\n",
       "    </tr>\n",
       "    <tr>\n",
       "      <th>3</th>\n",
       "      <td>2009.0</td>\n",
       "    </tr>\n",
       "    <tr>\n",
       "      <th>4</th>\n",
       "      <td>1996.0</td>\n",
       "    </tr>\n",
       "  </tbody>\n",
       "</table>\n",
       "</div>"
      ],
      "text/plain": [
       "     Year\n",
       "0  2006.0\n",
       "1  1985.0\n",
       "2  2008.0\n",
       "3  2009.0\n",
       "4  1996.0"
      ]
     },
     "execution_count": 209,
     "metadata": {},
     "output_type": "execute_result"
    }
   ],
   "source": [
    "#заполнение пропуска методом ближайших соседей\n",
    "year_data = data['Year'].copy().values.reshape(-1, 1)\n",
    "knnimputer = KNNImputer(\n",
    "    n_neighbors=5, \n",
    "    weights='distance', \n",
    "    metric='nan_euclidean', \n",
    "    add_indicator=False, \n",
    ")\n",
    "knnimpute_data_imputed_temp = knnimputer.fit_transform(year_data)\n",
    "knnimpute_data_imputed = pd.DataFrame(knnimpute_data_imputed_temp, columns=['Year'])\n",
    "knnimpute_data_imputed.head()"
   ]
  },
  {
   "cell_type": "code",
   "execution_count": 210,
   "metadata": {},
   "outputs": [
    {
     "data": {
      "text/plain": [
       "Year    0\n",
       "dtype: int64"
      ]
     },
     "execution_count": 210,
     "metadata": {},
     "output_type": "execute_result"
    }
   ],
   "source": [
    "# Пропуски заполнены\n",
    "knnimpute_data_imputed.isnull().sum()"
   ]
  },
  {
   "cell_type": "code",
   "execution_count": 211,
   "metadata": {},
   "outputs": [
    {
     "data": {
      "text/html": [
       "<div>\n",
       "<style scoped>\n",
       "    .dataframe tbody tr th:only-of-type {\n",
       "        vertical-align: middle;\n",
       "    }\n",
       "\n",
       "    .dataframe tbody tr th {\n",
       "        vertical-align: top;\n",
       "    }\n",
       "\n",
       "    .dataframe thead th {\n",
       "        text-align: right;\n",
       "    }\n",
       "</style>\n",
       "<table border=\"1\" class=\"dataframe\">\n",
       "  <thead>\n",
       "    <tr style=\"text-align: right;\">\n",
       "      <th></th>\n",
       "      <th>Rank</th>\n",
       "      <th>Name</th>\n",
       "      <th>Platform</th>\n",
       "      <th>Year</th>\n",
       "      <th>Genre</th>\n",
       "      <th>Publisher</th>\n",
       "      <th>NA_Sales</th>\n",
       "      <th>EU_Sales</th>\n",
       "      <th>JP_Sales</th>\n",
       "      <th>Other_Sales</th>\n",
       "      <th>Global_Sales</th>\n",
       "      <th>Name_Freq</th>\n",
       "      <th>Platform_Freq</th>\n",
       "      <th>Genre_Freq</th>\n",
       "      <th>Publisher_Freq</th>\n",
       "    </tr>\n",
       "  </thead>\n",
       "  <tbody>\n",
       "    <tr>\n",
       "      <th>0</th>\n",
       "      <td>1</td>\n",
       "      <td>Wii Sports</td>\n",
       "      <td>Wii</td>\n",
       "      <td>2006.0</td>\n",
       "      <td>Sports</td>\n",
       "      <td>Nintendo</td>\n",
       "      <td>41.49</td>\n",
       "      <td>29.02</td>\n",
       "      <td>3.77</td>\n",
       "      <td>8.46</td>\n",
       "      <td>82.74</td>\n",
       "      <td>1</td>\n",
       "      <td>1324</td>\n",
       "      <td>2343</td>\n",
       "      <td>703</td>\n",
       "    </tr>\n",
       "    <tr>\n",
       "      <th>203</th>\n",
       "      <td>2</td>\n",
       "      <td>Super Mario Bros.</td>\n",
       "      <td>NES</td>\n",
       "      <td>1985.0</td>\n",
       "      <td>Platform</td>\n",
       "      <td>Nintendo</td>\n",
       "      <td>29.08</td>\n",
       "      <td>3.58</td>\n",
       "      <td>6.81</td>\n",
       "      <td>0.77</td>\n",
       "      <td>40.24</td>\n",
       "      <td>2</td>\n",
       "      <td>98</td>\n",
       "      <td>884</td>\n",
       "      <td>703</td>\n",
       "    </tr>\n",
       "    <tr>\n",
       "      <th>55</th>\n",
       "      <td>3</td>\n",
       "      <td>Mario Kart Wii</td>\n",
       "      <td>Wii</td>\n",
       "      <td>2008.0</td>\n",
       "      <td>Racing</td>\n",
       "      <td>Nintendo</td>\n",
       "      <td>15.85</td>\n",
       "      <td>12.88</td>\n",
       "      <td>3.79</td>\n",
       "      <td>3.31</td>\n",
       "      <td>35.82</td>\n",
       "      <td>1</td>\n",
       "      <td>1324</td>\n",
       "      <td>1248</td>\n",
       "      <td>703</td>\n",
       "    </tr>\n",
       "    <tr>\n",
       "      <th>1</th>\n",
       "      <td>4</td>\n",
       "      <td>Wii Sports Resort</td>\n",
       "      <td>Wii</td>\n",
       "      <td>2009.0</td>\n",
       "      <td>Sports</td>\n",
       "      <td>Nintendo</td>\n",
       "      <td>15.75</td>\n",
       "      <td>11.01</td>\n",
       "      <td>3.28</td>\n",
       "      <td>2.96</td>\n",
       "      <td>33.00</td>\n",
       "      <td>1</td>\n",
       "      <td>1324</td>\n",
       "      <td>2343</td>\n",
       "      <td>703</td>\n",
       "    </tr>\n",
       "    <tr>\n",
       "      <th>537</th>\n",
       "      <td>5</td>\n",
       "      <td>Pokemon Red/Pokemon Blue</td>\n",
       "      <td>GB</td>\n",
       "      <td>1996.0</td>\n",
       "      <td>Role-Playing</td>\n",
       "      <td>Nintendo</td>\n",
       "      <td>11.27</td>\n",
       "      <td>8.89</td>\n",
       "      <td>10.22</td>\n",
       "      <td>1.00</td>\n",
       "      <td>31.37</td>\n",
       "      <td>1</td>\n",
       "      <td>98</td>\n",
       "      <td>1486</td>\n",
       "      <td>703</td>\n",
       "    </tr>\n",
       "  </tbody>\n",
       "</table>\n",
       "</div>"
      ],
      "text/plain": [
       "     Rank                      Name Platform    Year         Genre Publisher  \\\n",
       "0       1                Wii Sports      Wii  2006.0        Sports  Nintendo   \n",
       "203     2         Super Mario Bros.      NES  1985.0      Platform  Nintendo   \n",
       "55      3            Mario Kart Wii      Wii  2008.0        Racing  Nintendo   \n",
       "1       4         Wii Sports Resort      Wii  2009.0        Sports  Nintendo   \n",
       "537     5  Pokemon Red/Pokemon Blue       GB  1996.0  Role-Playing  Nintendo   \n",
       "\n",
       "     NA_Sales  EU_Sales  JP_Sales  Other_Sales  Global_Sales  Name_Freq  \\\n",
       "0       41.49     29.02      3.77         8.46         82.74          1   \n",
       "203     29.08      3.58      6.81         0.77         40.24          2   \n",
       "55      15.85     12.88      3.79         3.31         35.82          1   \n",
       "1       15.75     11.01      3.28         2.96         33.00          1   \n",
       "537     11.27      8.89     10.22         1.00         31.37          1   \n",
       "\n",
       "     Platform_Freq  Genre_Freq  Publisher_Freq  \n",
       "0             1324        2343             703  \n",
       "203             98         884             703  \n",
       "55            1324        1248             703  \n",
       "1             1324        2343             703  \n",
       "537             98        1486             703  "
      ]
     },
     "execution_count": 211,
     "metadata": {},
     "output_type": "execute_result"
    }
   ],
   "source": [
    "#кодирование категориальных признаков\n",
    "agg_data = data.groupby(\"Name\").Rank.count().sort_values(ascending=False).reset_index()\n",
    "agg_data.columns = [\"name\", \"Name_Freq\"]\n",
    "data = pd.merge(data, agg_data, left_on=\"Name\", right_on=\"name\").drop(columns=\"name\")\n",
    "\n",
    "agg_data = data.groupby(\"Platform\").Rank.count().sort_values(ascending=False).reset_index()\n",
    "agg_data.columns = [\"platform\", \"Platform_Freq\"]\n",
    "data = pd.merge(data, agg_data, left_on=\"Platform\", right_on=\"platform\").drop(columns=\"platform\")\n",
    "\n",
    "agg_data = data.groupby(\"Genre\").Rank.count().sort_values(ascending=False).reset_index()\n",
    "agg_data.columns = [\"genre\", \"Genre_Freq\"]\n",
    "data = pd.merge(data, agg_data, left_on=\"Genre\", right_on=\"genre\").drop(columns=\"genre\")\n",
    "\n",
    "agg_data = data.groupby(\"Publisher\").Rank.count().sort_values(ascending=False).reset_index()\n",
    "agg_data.columns = [\"publisher\", \"Publisher_Freq\"]\n",
    "data = pd.merge(data, agg_data, left_on=\"Publisher\", right_on=\"publisher\").drop(columns=\"publisher\")\n",
    "\n",
    "data = data.sort_values(by=[\"Rank\"])\n",
    "data.head()"
   ]
  },
  {
   "cell_type": "code",
   "execution_count": 212,
   "metadata": {},
   "outputs": [],
   "source": [
    "def diagnostic_plots(df, variable):\n",
    "    plt.figure(figsize=(15,6))\n",
    "    # гистограмма\n",
    "    plt.subplot(1, 2, 1)\n",
    "    df[variable].hist(bins=30)\n",
    "    ## Q-Q plot\n",
    "    plt.subplot(1, 2, 2)\n",
    "    stats.probplot(df[variable], dist=\"norm\", plot=plt)\n",
    "    plt.show()"
   ]
  },
  {
   "cell_type": "code",
   "execution_count": 215,
   "metadata": {},
   "outputs": [
    {
     "data": {
      "image/png": "[encoded data removed]",
      "text/plain": [
       "<Figure size 1080x432 with 2 Axes>"
      ]
     },
     "metadata": {
      "needs_background": "light"
     },
     "output_type": "display_data"
    }
   ],
   "source": [
    "diagnostic_plots(data, 'Global_Sales')"
   ]
  },
  {
   "cell_type": "code",
   "execution_count": 216,
   "metadata": {},
   "outputs": [
    {
     "data": {
      "image/png": "[encoded data removed]",
      "text/plain": [
       "<Figure size 1080x432 with 2 Axes>"
      ]
     },
     "metadata": {
      "needs_background": "light"
     },
     "output_type": "display_data"
    }
   ],
   "source": [
    "#Логарифм\n",
    "data['Global_Sales_log'] = np.log(data['Global_Sales'])\n",
    "diagnostic_plots(data, 'Global_Sales_log')"
   ]
  },
  {
   "cell_type": "code",
   "execution_count": 218,
   "metadata": {},
   "outputs": [],
   "source": [
    "#Обратное преобразование - очень плохо\n",
    "#data['Global_Sales_reciprocal'] = 1 / (data['Global_Sales']) \n",
    "#diagnostic_plots(data, 'Global_Sales_reciprocal')"
   ]
  },
  {
   "cell_type": "code",
   "execution_count": 220,
   "metadata": {},
   "outputs": [],
   "source": [
    "#Квадратный корень - почти ничего не дало\n",
    "#data['Global_Sales_sqrt'] = data['Global_Sales']**(1/2) \n",
    "#diagnostic_plots(data, 'Global_Sales_sqrt')"
   ]
  },
  {
   "cell_type": "code",
   "execution_count": 226,
   "metadata": {},
   "outputs": [],
   "source": [
    "#Возведение в степень - плохо\n",
    "#data['Global_Sales_exp1'] = data['Global_Sales']**(1/10)\n",
    "#diagnostic_plots(data, 'Global_Sales_exp1')"
   ]
  },
  {
   "cell_type": "code",
   "execution_count": 228,
   "metadata": {},
   "outputs": [
    {
     "name": "stdout",
     "output_type": "stream",
     "text": [
      "Оптимальное значение λ = -0.04832742434731606\n"
     ]
    },
    {
     "data": {
      "image/png": "[encoded data removed]",
      "text/plain": [
       "<Figure size 1080x432 with 2 Axes>"
      ]
     },
     "metadata": {
      "needs_background": "light"
     },
     "output_type": "display_data"
    }
   ],
   "source": [
    "# Преобразование Бокса-Кокса\n",
    "data['Global_Sales_boxcox'], param = stats.boxcox(data['Global_Sales']) \n",
    "print('Оптимальное значение λ = {}'.format(param))\n",
    "diagnostic_plots(data, 'Global_Sales_boxcox')"
   ]
  },
  {
   "cell_type": "code",
   "execution_count": 231,
   "metadata": {},
   "outputs": [],
   "source": [
    "# Преобразование Йео-Джонсона - очень плохо\n",
    "#data['Global_Sales_yeojohnson'], param = stats.yeojohnson(data['Global_Sales']) \n",
    "#print('Оптимальное значение λ = {}'.format(param))\n",
    "#diagnostic_plots(data, 'Global_Sales_yeojohnson')"
   ]
  },
  {
   "cell_type": "code",
   "execution_count": 232,
   "metadata": {},
   "outputs": [],
   "source": [
    "data.to_csv(\"./vgsales_ready.csv\")"
   ]
  },
  {
   "cell_type": "code",
   "execution_count": null,
   "metadata": {},
   "outputs": [],
   "source": []
  }
 ],
 "metadata": {
  "kernelspec": {
   "display_name": "Python 3",
   "language": "python",
   "name": "python3"
  },
  "language_info": {
   "codemirror_mode": {
    "name": "ipython",
    "version": 3
   },
   "file_extension": ".py",
   "mimetype": "text/x-python",
   "name": "python",
   "nbconvert_exporter": "python",
   "pygments_lexer": "ipython3",
   "version": "3.7.1"
  }
 },
 "nbformat": 4,
 "nbformat_minor": 2
}
