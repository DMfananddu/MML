{
 "cells": [
  {
   "cell_type": "markdown",
   "metadata": {},
   "source": [
    "# Фадеев Артем, ИУ5-21М\n",
    "## РК №1. Вариант 10."
   ]
  },
  {
   "cell_type": "code",
   "execution_count": 124,
   "metadata": {},
   "outputs": [],
   "source": [
    "import numpy as np\n",
    "import pandas as pd\n",
    "import seaborn as sns\n",
    "import matplotlib.pyplot as plt\n",
    "from sklearn.preprocessing import OrdinalEncoder, LabelEncoder\n",
    "from sklearn.impute import MissingIndicator, SimpleImputer, KNNImputer\n",
    "import scipy.stats as stats\n",
    "import matplotlib.ticker as ticker\n",
    "from sklearn.feature_selection import VarianceThreshold\n",
    "\n",
    "%matplotlib inline"
   ]
  },
  {
   "cell_type": "code",
   "execution_count": 125,
   "metadata": {},
   "outputs": [],
   "source": [
    "def impute_column(dataset, column, strategy_param, fill_value_param=None):\n",
    "    \"\"\"\n",
    "    Заполнение пропусков в одном признаке\n",
    "    \"\"\"\n",
    "    temp_data = dataset[[column]].values\n",
    "    size = temp_data.shape[0]\n",
    "    \n",
    "    indicator = MissingIndicator()\n",
    "    \n",
    "    mask_missing_values_only = indicator.fit_transform(temp_data)\n",
    "    \n",
    "    imputer = SimpleImputer(strategy=strategy_param, fill_value=fill_value_param)\n",
    "    all_data = imputer.fit_transform(temp_data)\n",
    "    \n",
    "    missed_data = temp_data[mask_missing_values_only]\n",
    "    filled_data = all_data[mask_missing_values_only]\n",
    "    \n",
    "    return all_data.reshape((size,)), filled_data, missed_data"
   ]
  },
  {
   "cell_type": "code",
   "execution_count": 126,
   "metadata": {},
   "outputs": [],
   "source": [
    "def plot_hist_diff(old_ds, new_ds, cols):\n",
    "    \"\"\"\n",
    "    Разница между распределениями до и после устранения пропусков\n",
    "    \"\"\"\n",
    "    for c in cols:\n",
    "        fig = plt.figure(figsize=(20,10))\n",
    "        ax = fig.add_subplot(111)\n",
    "        ax.title.set_text('Поле - ' + str(c))\n",
    "        for xlabel_i in ax.get_xticklabels():\n",
    "            xlabel_i.set_visible(False)\n",
    "        #  Устанавливаем интервал основных делений:\n",
    "        ax.xaxis.set_major_locator(ticker.MultipleLocator(20))\n",
    "        #  Устанавливаем интервал вспомогательных делений:\n",
    "        ax.xaxis.set_minor_locator(ticker.MultipleLocator(10))\n",
    "        #  Тоже самое проделываем с делениями на оси \"y\":\n",
    "        ax.yaxis.set_major_locator(ticker.MultipleLocator(50))\n",
    "        ax.yaxis.set_minor_locator(ticker.MultipleLocator(10))\n",
    "        old_ds[c].hist(bins=50, ax=ax, density=True, color='blue')\n",
    "        new_ds[c].hist(bins=50, ax=ax, color='orange', density=True)\n",
    "        plt.show()"
   ]
  },
  {
   "cell_type": "code",
   "execution_count": 127,
   "metadata": {},
   "outputs": [
    {
     "data": {
      "text/html": [
       "<div>\n",
       "<style scoped>\n",
       "    .dataframe tbody tr th:only-of-type {\n",
       "        vertical-align: middle;\n",
       "    }\n",
       "\n",
       "    .dataframe tbody tr th {\n",
       "        vertical-align: top;\n",
       "    }\n",
       "\n",
       "    .dataframe thead th {\n",
       "        text-align: right;\n",
       "    }\n",
       "</style>\n",
       "<table border=\"1\" class=\"dataframe\">\n",
       "  <thead>\n",
       "    <tr style=\"text-align: right;\">\n",
       "      <th></th>\n",
       "      <th>Rank</th>\n",
       "      <th>Name</th>\n",
       "      <th>Platform</th>\n",
       "      <th>Year</th>\n",
       "      <th>Genre</th>\n",
       "      <th>Publisher</th>\n",
       "      <th>NA_Sales</th>\n",
       "      <th>EU_Sales</th>\n",
       "      <th>JP_Sales</th>\n",
       "      <th>Other_Sales</th>\n",
       "      <th>Global_Sales</th>\n",
       "    </tr>\n",
       "  </thead>\n",
       "  <tbody>\n",
       "    <tr>\n",
       "      <th>0</th>\n",
       "      <td>1</td>\n",
       "      <td>Wii Sports</td>\n",
       "      <td>Wii</td>\n",
       "      <td>2006.0</td>\n",
       "      <td>Sports</td>\n",
       "      <td>Nintendo</td>\n",
       "      <td>41.49</td>\n",
       "      <td>29.02</td>\n",
       "      <td>3.77</td>\n",
       "      <td>8.46</td>\n",
       "      <td>82.74</td>\n",
       "    </tr>\n",
       "    <tr>\n",
       "      <th>1</th>\n",
       "      <td>2</td>\n",
       "      <td>Super Mario Bros.</td>\n",
       "      <td>NES</td>\n",
       "      <td>1985.0</td>\n",
       "      <td>Platform</td>\n",
       "      <td>Nintendo</td>\n",
       "      <td>29.08</td>\n",
       "      <td>3.58</td>\n",
       "      <td>6.81</td>\n",
       "      <td>0.77</td>\n",
       "      <td>40.24</td>\n",
       "    </tr>\n",
       "    <tr>\n",
       "      <th>2</th>\n",
       "      <td>3</td>\n",
       "      <td>Mario Kart Wii</td>\n",
       "      <td>Wii</td>\n",
       "      <td>2008.0</td>\n",
       "      <td>Racing</td>\n",
       "      <td>Nintendo</td>\n",
       "      <td>15.85</td>\n",
       "      <td>12.88</td>\n",
       "      <td>3.79</td>\n",
       "      <td>3.31</td>\n",
       "      <td>35.82</td>\n",
       "    </tr>\n",
       "    <tr>\n",
       "      <th>3</th>\n",
       "      <td>4</td>\n",
       "      <td>Wii Sports Resort</td>\n",
       "      <td>Wii</td>\n",
       "      <td>2009.0</td>\n",
       "      <td>Sports</td>\n",
       "      <td>Nintendo</td>\n",
       "      <td>15.75</td>\n",
       "      <td>11.01</td>\n",
       "      <td>3.28</td>\n",
       "      <td>2.96</td>\n",
       "      <td>33.00</td>\n",
       "    </tr>\n",
       "    <tr>\n",
       "      <th>4</th>\n",
       "      <td>5</td>\n",
       "      <td>Pokemon Red/Pokemon Blue</td>\n",
       "      <td>GB</td>\n",
       "      <td>1996.0</td>\n",
       "      <td>Role-Playing</td>\n",
       "      <td>Nintendo</td>\n",
       "      <td>11.27</td>\n",
       "      <td>8.89</td>\n",
       "      <td>10.22</td>\n",
       "      <td>1.00</td>\n",
       "      <td>31.37</td>\n",
       "    </tr>\n",
       "  </tbody>\n",
       "</table>\n",
       "</div>"
      ],
      "text/plain": [
       "   Rank                      Name Platform    Year         Genre Publisher  \\\n",
       "0     1                Wii Sports      Wii  2006.0        Sports  Nintendo   \n",
       "1     2         Super Mario Bros.      NES  1985.0      Platform  Nintendo   \n",
       "2     3            Mario Kart Wii      Wii  2008.0        Racing  Nintendo   \n",
       "3     4         Wii Sports Resort      Wii  2009.0        Sports  Nintendo   \n",
       "4     5  Pokemon Red/Pokemon Blue       GB  1996.0  Role-Playing  Nintendo   \n",
       "\n",
       "   NA_Sales  EU_Sales  JP_Sales  Other_Sales  Global_Sales  \n",
       "0     41.49     29.02      3.77         8.46         82.74  \n",
       "1     29.08      3.58      6.81         0.77         40.24  \n",
       "2     15.85     12.88      3.79         3.31         35.82  \n",
       "3     15.75     11.01      3.28         2.96         33.00  \n",
       "4     11.27      8.89     10.22         1.00         31.37  "
      ]
     },
     "execution_count": 127,
     "metadata": {},
     "output_type": "execute_result"
    }
   ],
   "source": [
    "data = pd.read_csv('./vgsales.csv', sep=',', encoding=\"utf-8\")\n",
    "data.head()"
   ]
  },
  {
   "cell_type": "code",
   "execution_count": 128,
   "metadata": {},
   "outputs": [
    {
     "data": {
      "text/plain": [
       "Rank              0\n",
       "Name              0\n",
       "Platform          0\n",
       "Year            271\n",
       "Genre             0\n",
       "Publisher        58\n",
       "NA_Sales          0\n",
       "EU_Sales          0\n",
       "JP_Sales          0\n",
       "Other_Sales       0\n",
       "Global_Sales      0\n",
       "dtype: int64"
      ]
     },
     "execution_count": 128,
     "metadata": {},
     "output_type": "execute_result"
    }
   ],
   "source": [
    "data.isnull().sum()"
   ]
  },
  {
   "cell_type": "code",
   "execution_count": 129,
   "metadata": {},
   "outputs": [],
   "source": [
    "data = data.drop(data[data[\"Year\"].isnull()].index) # удаление кортежей с пустым полем Year"
   ]
  },
  {
   "cell_type": "markdown",
   "metadata": {},
   "source": [
    "# Задача №10.\n",
    "## Для набора данных проведите устранение пропусков для одного (произвольного) категориального признака с использованием метода заполнения наиболее распространенным значением."
   ]
  },
  {
   "cell_type": "code",
   "execution_count": 130,
   "metadata": {},
   "outputs": [
    {
     "data": {
      "text/plain": [
       "Rank             0\n",
       "Name             0\n",
       "Platform         0\n",
       "Year             0\n",
       "Genre            0\n",
       "Publisher       36\n",
       "NA_Sales         0\n",
       "EU_Sales         0\n",
       "JP_Sales         0\n",
       "Other_Sales      0\n",
       "Global_Sales     0\n",
       "dtype: int64"
      ]
     },
     "execution_count": 130,
     "metadata": {},
     "output_type": "execute_result"
    }
   ],
   "source": [
    "data.isnull().sum()"
   ]
  },
  {
   "cell_type": "markdown",
   "metadata": {},
   "source": [
    "Получили немного кортежей с пустым категориальным значением Year"
   ]
  },
  {
   "cell_type": "code",
   "execution_count": 131,
   "metadata": {},
   "outputs": [],
   "source": [
    "data_cat_cols = ['Publisher']\n",
    "data_cat_new = data[data_cat_cols].copy()\n",
    "Publisher_cat_new_temp, _, _ = impute_column(data_cat_new, 'Publisher', 'most_frequent')\n",
    "data_cat_new['Publisher'] = Publisher_cat_new_temp"
   ]
  },
  {
   "cell_type": "code",
   "execution_count": 132,
   "metadata": {},
   "outputs": [
    {
     "data": {
      "image/png": "[encoded data removed]",
      "text/plain": [
       "<Figure size 1440x720 with 1 Axes>"
      ]
     },
     "metadata": {
      "needs_background": "light"
     },
     "output_type": "display_data"
    }
   ],
   "source": [
    "plot_hist_diff(data, data_cat_new, data_cat_cols)"
   ]
  },
  {
   "cell_type": "markdown",
   "metadata": {},
   "source": [
    "Как видим, набор данных располагает слишком большим набором данных, чтобы добавление 36-ти строкам какое-либо значение столбца издательство на что-то повлияло: очень тоненькие полосочки на 3-й колонке и низкой колонке, располагающейся на 9-м справа делении осей Х."
   ]
  },
  {
   "cell_type": "code",
   "execution_count": 133,
   "metadata": {},
   "outputs": [
    {
     "data": {
      "text/plain": [
       "Rank            0\n",
       "Name            0\n",
       "Platform        0\n",
       "Year            0\n",
       "Genre           0\n",
       "Publisher       0\n",
       "NA_Sales        0\n",
       "EU_Sales        0\n",
       "JP_Sales        0\n",
       "Other_Sales     0\n",
       "Global_Sales    0\n",
       "dtype: int64"
      ]
     },
     "execution_count": 133,
     "metadata": {},
     "output_type": "execute_result"
    }
   ],
   "source": [
    "data['Publisher'] = data_cat_new['Publisher']\n",
    "data.isnull().sum() # Пропуски удалили"
   ]
  },
  {
   "cell_type": "markdown",
   "metadata": {},
   "source": [
    "# Задача №30.\n",
    "## Для набора данных проведите удаление повторяющихся признаков."
   ]
  },
  {
   "cell_type": "markdown",
   "metadata": {},
   "source": [
    "Использую функцию, которая просмотрит каждую колонку датасета и попробует найти дублирующийся колонки"
   ]
  },
  {
   "cell_type": "code",
   "execution_count": 134,
   "metadata": {},
   "outputs": [],
   "source": [
    "def get_duplicates(data):\n",
    "    \"\"\"\n",
    "    Поиск дубликатов в колонках\n",
    "    \"\"\"\n",
    "    pairs = {}\n",
    "    dups = []\n",
    "    # Перебор всех колонок (внешний)\n",
    "    for i in range(data.shape[1]):\n",
    "        # текущая колонка\n",
    "        feat_outer = data.columns[i]\n",
    "        # если текущая колонка не является дублем\n",
    "        if feat_outer not in dups:\n",
    "            # создаем запись в словаре, колонка является ключом\n",
    "            pairs[feat_outer] = []\n",
    "            # Перебор оставшихся колонок (внутренний)\n",
    "            for feat_inner in data.columns[i + 1:]:\n",
    "                # Если колонки идентичны\n",
    "                if data[feat_outer].equals(data[feat_inner]):\n",
    "                    # добавление в словарь и список дубликатов\n",
    "                    pairs[feat_outer].append(feat_inner)\n",
    "                    dups.append(feat_inner)\n",
    "    return pairs"
   ]
  },
  {
   "cell_type": "code",
   "execution_count": 135,
   "metadata": {},
   "outputs": [
    {
     "data": {
      "text/plain": [
       "{'Rank': [],\n",
       " 'Name': [],\n",
       " 'Platform': [],\n",
       " 'Year': [],\n",
       " 'Genre': [],\n",
       " 'Publisher': [],\n",
       " 'NA_Sales': [],\n",
       " 'EU_Sales': [],\n",
       " 'JP_Sales': [],\n",
       " 'Other_Sales': [],\n",
       " 'Global_Sales': []}"
      ]
     },
     "execution_count": 135,
     "metadata": {},
     "output_type": "execute_result"
    }
   ],
   "source": [
    "get_duplicates(data) # Понятно - не нашли дубликатов"
   ]
  },
  {
   "cell_type": "markdown",
   "metadata": {},
   "source": [
    "Попробую найти плохие признаки с помощью дисперсии и методов класса VarianceThreshold"
   ]
  },
  {
   "cell_type": "code",
   "execution_count": 138,
   "metadata": {},
   "outputs": [
    {
     "data": {
      "text/html": [
       "<div>\n",
       "<style scoped>\n",
       "    .dataframe tbody tr th:only-of-type {\n",
       "        vertical-align: middle;\n",
       "    }\n",
       "\n",
       "    .dataframe tbody tr th {\n",
       "        vertical-align: top;\n",
       "    }\n",
       "\n",
       "    .dataframe thead th {\n",
       "        text-align: right;\n",
       "    }\n",
       "</style>\n",
       "<table border=\"1\" class=\"dataframe\">\n",
       "  <thead>\n",
       "    <tr style=\"text-align: right;\">\n",
       "      <th></th>\n",
       "      <th>Rank</th>\n",
       "      <th>Name</th>\n",
       "      <th>Platform</th>\n",
       "      <th>Year</th>\n",
       "      <th>Genre</th>\n",
       "      <th>Publisher</th>\n",
       "      <th>NA_Sales</th>\n",
       "      <th>EU_Sales</th>\n",
       "      <th>JP_Sales</th>\n",
       "      <th>Other_Sales</th>\n",
       "      <th>Global_Sales</th>\n",
       "      <th>Name_Freq</th>\n",
       "      <th>Platform_Freq</th>\n",
       "      <th>Genre_Freq</th>\n",
       "      <th>Publisher_Freq</th>\n",
       "    </tr>\n",
       "  </thead>\n",
       "  <tbody>\n",
       "    <tr>\n",
       "      <th>0</th>\n",
       "      <td>1</td>\n",
       "      <td>Wii Sports</td>\n",
       "      <td>Wii</td>\n",
       "      <td>2006.0</td>\n",
       "      <td>Sports</td>\n",
       "      <td>Nintendo</td>\n",
       "      <td>41.49</td>\n",
       "      <td>29.02</td>\n",
       "      <td>3.77</td>\n",
       "      <td>8.46</td>\n",
       "      <td>82.74</td>\n",
       "      <td>1</td>\n",
       "      <td>1290</td>\n",
       "      <td>2304</td>\n",
       "      <td>696</td>\n",
       "    </tr>\n",
       "    <tr>\n",
       "      <th>203</th>\n",
       "      <td>2</td>\n",
       "      <td>Super Mario Bros.</td>\n",
       "      <td>NES</td>\n",
       "      <td>1985.0</td>\n",
       "      <td>Platform</td>\n",
       "      <td>Nintendo</td>\n",
       "      <td>29.08</td>\n",
       "      <td>3.58</td>\n",
       "      <td>6.81</td>\n",
       "      <td>0.77</td>\n",
       "      <td>40.24</td>\n",
       "      <td>2</td>\n",
       "      <td>98</td>\n",
       "      <td>876</td>\n",
       "      <td>696</td>\n",
       "    </tr>\n",
       "    <tr>\n",
       "      <th>55</th>\n",
       "      <td>3</td>\n",
       "      <td>Mario Kart Wii</td>\n",
       "      <td>Wii</td>\n",
       "      <td>2008.0</td>\n",
       "      <td>Racing</td>\n",
       "      <td>Nintendo</td>\n",
       "      <td>15.85</td>\n",
       "      <td>12.88</td>\n",
       "      <td>3.79</td>\n",
       "      <td>3.31</td>\n",
       "      <td>35.82</td>\n",
       "      <td>1</td>\n",
       "      <td>1290</td>\n",
       "      <td>1226</td>\n",
       "      <td>696</td>\n",
       "    </tr>\n",
       "    <tr>\n",
       "      <th>1</th>\n",
       "      <td>4</td>\n",
       "      <td>Wii Sports Resort</td>\n",
       "      <td>Wii</td>\n",
       "      <td>2009.0</td>\n",
       "      <td>Sports</td>\n",
       "      <td>Nintendo</td>\n",
       "      <td>15.75</td>\n",
       "      <td>11.01</td>\n",
       "      <td>3.28</td>\n",
       "      <td>2.96</td>\n",
       "      <td>33.00</td>\n",
       "      <td>1</td>\n",
       "      <td>1290</td>\n",
       "      <td>2304</td>\n",
       "      <td>696</td>\n",
       "    </tr>\n",
       "    <tr>\n",
       "      <th>532</th>\n",
       "      <td>5</td>\n",
       "      <td>Pokemon Red/Pokemon Blue</td>\n",
       "      <td>GB</td>\n",
       "      <td>1996.0</td>\n",
       "      <td>Role-Playing</td>\n",
       "      <td>Nintendo</td>\n",
       "      <td>11.27</td>\n",
       "      <td>8.89</td>\n",
       "      <td>10.22</td>\n",
       "      <td>1.00</td>\n",
       "      <td>31.37</td>\n",
       "      <td>1</td>\n",
       "      <td>97</td>\n",
       "      <td>1471</td>\n",
       "      <td>696</td>\n",
       "    </tr>\n",
       "  </tbody>\n",
       "</table>\n",
       "</div>"
      ],
      "text/plain": [
       "     Rank                      Name Platform    Year         Genre Publisher  \\\n",
       "0       1                Wii Sports      Wii  2006.0        Sports  Nintendo   \n",
       "203     2         Super Mario Bros.      NES  1985.0      Platform  Nintendo   \n",
       "55      3            Mario Kart Wii      Wii  2008.0        Racing  Nintendo   \n",
       "1       4         Wii Sports Resort      Wii  2009.0        Sports  Nintendo   \n",
       "532     5  Pokemon Red/Pokemon Blue       GB  1996.0  Role-Playing  Nintendo   \n",
       "\n",
       "     NA_Sales  EU_Sales  JP_Sales  Other_Sales  Global_Sales  Name_Freq  \\\n",
       "0       41.49     29.02      3.77         8.46         82.74          1   \n",
       "203     29.08      3.58      6.81         0.77         40.24          2   \n",
       "55      15.85     12.88      3.79         3.31         35.82          1   \n",
       "1       15.75     11.01      3.28         2.96         33.00          1   \n",
       "532     11.27      8.89     10.22         1.00         31.37          1   \n",
       "\n",
       "     Platform_Freq  Genre_Freq  Publisher_Freq  \n",
       "0             1290        2304             696  \n",
       "203             98         876             696  \n",
       "55            1290        1226             696  \n",
       "1             1290        2304             696  \n",
       "532             97        1471             696  "
      ]
     },
     "execution_count": 138,
     "metadata": {},
     "output_type": "execute_result"
    }
   ],
   "source": [
    "#кодирование категориальных признаков\n",
    "agg_data = data.groupby(\"Name\").Rank.count().sort_values(ascending=False).reset_index()\n",
    "agg_data.columns = [\"name\", \"Name_Freq\"]\n",
    "data = pd.merge(data, agg_data, left_on=\"Name\", right_on=\"name\").drop(columns=\"name\")\n",
    "\n",
    "agg_data = data.groupby(\"Platform\").Rank.count().sort_values(ascending=False).reset_index()\n",
    "agg_data.columns = [\"platform\", \"Platform_Freq\"]\n",
    "data = pd.merge(data, agg_data, left_on=\"Platform\", right_on=\"platform\").drop(columns=\"platform\")\n",
    "\n",
    "agg_data = data.groupby(\"Genre\").Rank.count().sort_values(ascending=False).reset_index()\n",
    "agg_data.columns = [\"genre\", \"Genre_Freq\"]\n",
    "data = pd.merge(data, agg_data, left_on=\"Genre\", right_on=\"genre\").drop(columns=\"genre\")\n",
    "\n",
    "agg_data = data.groupby(\"Publisher\").Rank.count().sort_values(ascending=False).reset_index()\n",
    "agg_data.columns = [\"publisher\", \"Publisher_Freq\"]\n",
    "data = pd.merge(data, agg_data, left_on=\"Publisher\", right_on=\"publisher\").drop(columns=\"publisher\")\n",
    "\n",
    "data = data.sort_values(by=[\"Rank\"])\n",
    "data.head()"
   ]
  },
  {
   "cell_type": "code",
   "execution_count": 144,
   "metadata": {},
   "outputs": [
    {
     "name": "stdout",
     "output_type": "stream",
     "text": [
      "Rank \t 22968276.744677715\n",
      "Year \t 33.97493980298204\n",
      "NA_Sales \t 0.674970182131901\n",
      "EU_Sales \t 0.25882668252020824\n",
      "JP_Sales \t 0.09706180755441642\n",
      "Other_Sales \t 0.03605426706900961\n",
      "Name_Freq \t 2.492376571190176\n",
      "Platform_Freq \t 400090.5433198231\n",
      "Genre_Freq \t 778216.8057600536\n",
      "Publisher_Freq \t 187506.215105879\n"
     ]
    }
   ],
   "source": [
    "cols = ['Rank','Year','NA_Sales','EU_Sales','JP_Sales','Other_Sales','Name_Freq','Platform_Freq','Genre_Freq','Publisher_Freq']\n",
    "data_for_VT = data[cols]\n",
    "selector = VarianceThreshold(threshold=0.15)\n",
    "selector.fit(data_for_VT)\n",
    "# Значения дисперсий для каждого признака\n",
    "for i in range(len(cols)):\n",
    "    print(cols[i], '\\t', selector.variances_[i])"
   ]
  },
  {
   "cell_type": "markdown",
   "metadata": {},
   "source": [
    "Видим маленькую дисперсию по колонкам NA_Sales и EU_Sales, и крошечную по JP_Sales и Other_Sales"
   ]
  },
  {
   "cell_type": "markdown",
   "metadata": {},
   "source": [
    "# Дополнительные требования по группам.\n",
    "## Для пары произвольных колонок данных построить график \"Диаграмма рассеяния\"."
   ]
  },
  {
   "cell_type": "code",
   "execution_count": 152,
   "metadata": {},
   "outputs": [
    {
     "data": {
      "text/plain": [
       "<seaborn.axisgrid.JointGrid at 0x207e5a1e898>"
      ]
     },
     "execution_count": 152,
     "metadata": {},
     "output_type": "execute_result"
    },
    {
     "data": {
      "image/png": "[encoded data removed]",
      "text/plain": [
       "<Figure size 432x432 with 3 Axes>"
      ]
     },
     "metadata": {
      "needs_background": "light"
     },
     "output_type": "display_data"
    }
   ],
   "source": [
    "sns.jointplot(x=data[\"Year\"], y=data[\"Platform_Freq\"], kind='scatter', s=200, color='m', edgecolor=\"skyblue\", linewidth=1)"
   ]
  },
  {
   "cell_type": "code",
   "execution_count": null,
   "metadata": {},
   "outputs": [],
   "source": []
  }
 ],
 "metadata": {
  "kernelspec": {
   "display_name": "Python 3",
   "language": "python",
   "name": "python3"
  },
  "language_info": {
   "codemirror_mode": {
    "name": "ipython",
    "version": 3
   },
   "file_extension": ".py",
   "mimetype": "text/x-python",
   "name": "python",
   "nbconvert_exporter": "python",
   "pygments_lexer": "ipython3",
   "version": "3.7.1"
  }
 },
 "nbformat": 4,
 "nbformat_minor": 2
}
