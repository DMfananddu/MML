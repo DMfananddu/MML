{
 "cells": [
  {
   "cell_type": "code",
   "execution_count": 54,
   "metadata": {},
   "outputs": [],
   "source": [
    "import pandas as pd\n",
    "from sklearn.preprocessing import OrdinalEncoder, LabelEncoder\n",
    "from sklearn.model_selection import train_test_split\n",
    "import matplotlib\n",
    "import pylab\n",
    "from matplotlib import transforms, pyplot as plt\n",
    "import numpy as np\n",
    "import seaborn as sns\n",
    "from sklearn.preprocessing import StandardScaler\n",
    "from sklearn.preprocessing import MinMaxScaler\n",
    "from sklearn.preprocessing import RobustScaler\n",
    "from sklearn.preprocessing import MaxAbsScaler\n",
    "#\n",
    "# %matplotlib inline"
   ]
  },
  {
   "cell_type": "code",
   "execution_count": 67,
   "metadata": {},
   "outputs": [],
   "source": [
    "# Построение плотности распределения\n",
    "def draw_kde(col1, col2, col3, df1, df2, label1, label2):\n",
    "    #fig, (ax11, ax12, ax21, ax22) = plt.subplots(\n",
    "    #    ncols=4, figsize=(20, 15))\n",
    "    # первый первый график\n",
    "    pylab.figure(figsize=(20, 15))\n",
    "    pylab.subplot(2, 2, 1)\n",
    "    pylab.title(\"'\"+col2+\"' \"+label1)\n",
    "    pylab.plot(df1[col1], df1[col2])\n",
    "    # первый второй график\n",
    "    pylab.subplot(2, 2, 2)\n",
    "    pylab.title(\"'\"+col2+\"' \"+label2)\n",
    "    pylab.plot(df2[col1], df2[col2])\n",
    "    # второй первый график\n",
    "    pylab.subplot(2, 2, 3)\n",
    "    pylab.title(\"'\"+col3+\"' \"+label1)\n",
    "    pylab.plot(df1[col1], df1[col3])\n",
    "    # второй второй график\n",
    "    pylab.subplot(2, 2, 4)\n",
    "    pylab.title(\"'\"+col3+\"' \"+label2)\n",
    "    pylab.plot(df2[col1], df2[col3])\n",
    "    \n",
    "    pylab.show()"
   ]
  },
  {
   "cell_type": "markdown",
   "metadata": {},
   "source": [
    "# Выбрать один или несколько наборов данных (датасетов) для решения следующих задач. Каждая задача может быть решена на отдельном датасете, или несколько задач могут быть решены на одном датасете. Просьба не использовать датасет, на котором данная задача решалась в лекции."
   ]
  },
  {
   "cell_type": "code",
   "execution_count": 56,
   "metadata": {},
   "outputs": [
    {
     "data": {
      "text/html": [
       "<div>\n",
       "<style scoped>\n",
       "    .dataframe tbody tr th:only-of-type {\n",
       "        vertical-align: middle;\n",
       "    }\n",
       "\n",
       "    .dataframe tbody tr th {\n",
       "        vertical-align: top;\n",
       "    }\n",
       "\n",
       "    .dataframe thead th {\n",
       "        text-align: right;\n",
       "    }\n",
       "</style>\n",
       "<table border=\"1\" class=\"dataframe\">\n",
       "  <thead>\n",
       "    <tr style=\"text-align: right;\">\n",
       "      <th></th>\n",
       "      <th>BookID</th>\n",
       "      <th>Title</th>\n",
       "      <th>Authors</th>\n",
       "      <th>Average_rating</th>\n",
       "      <th>ISBN</th>\n",
       "      <th>ISBN13</th>\n",
       "      <th>Language_code</th>\n",
       "      <th>Num_pages</th>\n",
       "      <th>Ratings_count</th>\n",
       "      <th>Text_reviews_count</th>\n",
       "      <th>Publication_date</th>\n",
       "      <th>Publisher</th>\n",
       "    </tr>\n",
       "  </thead>\n",
       "  <tbody>\n",
       "    <tr>\n",
       "      <th>0</th>\n",
       "      <td>1</td>\n",
       "      <td>Harry Potter and the Half-Blood Prince (Harry ...</td>\n",
       "      <td>J.K. Rowling/Mary GrandPré</td>\n",
       "      <td>4.57</td>\n",
       "      <td>0439785960</td>\n",
       "      <td>9780439785969</td>\n",
       "      <td>eng</td>\n",
       "      <td>652</td>\n",
       "      <td>2095690</td>\n",
       "      <td>27591</td>\n",
       "      <td>9/16/2006</td>\n",
       "      <td>Scholastic Inc.</td>\n",
       "    </tr>\n",
       "  </tbody>\n",
       "</table>\n",
       "</div>"
      ],
      "text/plain": [
       "   BookID                                              Title  \\\n",
       "0       1  Harry Potter and the Half-Blood Prince (Harry ...   \n",
       "\n",
       "                      Authors  Average_rating        ISBN         ISBN13  \\\n",
       "0  J.K. Rowling/Mary GrandPré            4.57  0439785960  9780439785969   \n",
       "\n",
       "  Language_code  Num_pages  Ratings_count  Text_reviews_count  \\\n",
       "0           eng        652        2095690               27591   \n",
       "\n",
       "  Publication_date        Publisher  \n",
       "0        9/16/2006  Scholastic Inc.  "
      ]
     },
     "execution_count": 56,
     "metadata": {},
     "output_type": "execute_result"
    }
   ],
   "source": [
    "data = pd.read_csv('./books.csv', sep=',', encoding=\"utf-8\")\n",
    "data.head(1)"
   ]
  },
  {
   "cell_type": "code",
   "execution_count": 57,
   "metadata": {},
   "outputs": [
    {
     "data": {
      "text/html": [
       "<div>\n",
       "<style scoped>\n",
       "    .dataframe tbody tr th:only-of-type {\n",
       "        vertical-align: middle;\n",
       "    }\n",
       "\n",
       "    .dataframe tbody tr th {\n",
       "        vertical-align: top;\n",
       "    }\n",
       "\n",
       "    .dataframe thead th {\n",
       "        text-align: right;\n",
       "    }\n",
       "</style>\n",
       "<table border=\"1\" class=\"dataframe\">\n",
       "  <thead>\n",
       "    <tr style=\"text-align: right;\">\n",
       "      <th></th>\n",
       "      <th>BookID</th>\n",
       "      <th>Average_rating</th>\n",
       "      <th>Num_pages</th>\n",
       "      <th>Ratings_count</th>\n",
       "      <th>Text_reviews_count</th>\n",
       "      <th>Publication_month</th>\n",
       "      <th>Publication_year</th>\n",
       "    </tr>\n",
       "  </thead>\n",
       "  <tbody>\n",
       "    <tr>\n",
       "      <th>0</th>\n",
       "      <td>0</td>\n",
       "      <td>4.57</td>\n",
       "      <td>652</td>\n",
       "      <td>2095690</td>\n",
       "      <td>27591</td>\n",
       "      <td>9</td>\n",
       "      <td>2006</td>\n",
       "    </tr>\n",
       "  </tbody>\n",
       "</table>\n",
       "</div>"
      ],
      "text/plain": [
       "   BookID  Average_rating  Num_pages  Ratings_count  Text_reviews_count  \\\n",
       "0       0            4.57        652        2095690               27591   \n",
       "\n",
       "   Publication_month  Publication_year  \n",
       "0                  9              2006  "
      ]
     },
     "execution_count": 57,
     "metadata": {},
     "output_type": "execute_result"
    }
   ],
   "source": [
    "data = data.reset_index(drop=True)\n",
    "enc = OrdinalEncoder(categories='auto', dtype=int)\n",
    "data[[\"BookID\"]] = enc.fit_transform(data[[\"BookID\"]])\n",
    "row_date_data = data[\"Publication_date\"]\n",
    "date_data = row_date_data.str.split('/',expand=True)\n",
    "date_data.columns = [\"Publication_month\", \"Publication_day\", \"Publication_year\"]\n",
    "date_data = date_data[[\"Publication_month\", \"Publication_year\"]]\n",
    "date_data.head(1)\n",
    "data[\"Publication_month\"] = pd.to_numeric(date_data[\"Publication_month\"])\n",
    "data[\"Publication_year\"] = pd.to_numeric(date_data[\"Publication_year\"])\n",
    "data = data.drop(columns=\"ISBN\")\n",
    "data = data.drop(columns=\"ISBN13\") # удалю признаки номера и категориальные, т.к. далее в обработке они не участвуют\n",
    "data = data.drop(columns=\"Title\")\n",
    "data = data.drop(columns=\"Authors\")\n",
    "data = data.drop(columns=\"Language_code\")\n",
    "data = data.drop(columns=\"Publication_date\")\n",
    "data = data.drop(columns=\"Publisher\")\n",
    "data.head(1)"
   ]
  },
  {
   "cell_type": "code",
   "execution_count": 58,
   "metadata": {},
   "outputs": [],
   "source": [
    "# DataFrame не содержащий целевой признак Average_rating\n",
    "X_ALL = data.drop(['Average_rating'], axis=1)"
   ]
  },
  {
   "cell_type": "code",
   "execution_count": 59,
   "metadata": {},
   "outputs": [],
   "source": [
    "# Функция для восстановления датафрейма\n",
    "# на основе масштабированных данных\n",
    "def arr_to_df(arr_scaled):\n",
    "    res = pd.DataFrame(arr_scaled, columns=X_ALL.columns)\n",
    "    return res"
   ]
  },
  {
   "cell_type": "code",
   "execution_count": 60,
   "metadata": {},
   "outputs": [
    {
     "data": {
      "text/plain": [
       "((8898, 6), (2225, 6))"
      ]
     },
     "execution_count": 60,
     "metadata": {},
     "output_type": "execute_result"
    }
   ],
   "source": [
    "# Разделим выборку на обучающую и тестовую\n",
    "X_train, X_test, y_train, y_test = train_test_split(X_ALL, data['Average_rating'],\n",
    "                                                    test_size=0.2,\n",
    "                                                    random_state=1)\n",
    "# Преобразуем массивы в DataFrame\n",
    "X_train_df = arr_to_df(X_train)\n",
    "X_test_df = arr_to_df(X_test)\n",
    "\n",
    "X_train_df.shape, X_test_df.shape"
   ]
  },
  {
   "cell_type": "markdown",
   "metadata": {},
   "source": [
    "# масштабирование признаков (не менее чем тремя способами)"
   ]
  },
  {
   "cell_type": "markdown",
   "metadata": {},
   "source": [
    "## 1) Масштабирование данных на основе Z-оценки\n",
    "### x′=(x−μ(x))/σ(x)\n",
    "### где x - признак, μ(x)=mean(x) - среднее значение, σ(x)=std(x) - среднеквадратичное отклонение."
   ]
  },
  {
   "cell_type": "code",
   "execution_count": 61,
   "metadata": {},
   "outputs": [
    {
     "data": {
      "text/html": [
       "<div>\n",
       "<style scoped>\n",
       "    .dataframe tbody tr th:only-of-type {\n",
       "        vertical-align: middle;\n",
       "    }\n",
       "\n",
       "    .dataframe tbody tr th {\n",
       "        vertical-align: top;\n",
       "    }\n",
       "\n",
       "    .dataframe thead th {\n",
       "        text-align: right;\n",
       "    }\n",
       "</style>\n",
       "<table border=\"1\" class=\"dataframe\">\n",
       "  <thead>\n",
       "    <tr style=\"text-align: right;\">\n",
       "      <th></th>\n",
       "      <th>BookID</th>\n",
       "      <th>Num_pages</th>\n",
       "      <th>Ratings_count</th>\n",
       "      <th>Text_reviews_count</th>\n",
       "      <th>Publication_month</th>\n",
       "      <th>Publication_year</th>\n",
       "    </tr>\n",
       "  </thead>\n",
       "  <tbody>\n",
       "    <tr>\n",
       "      <th>0</th>\n",
       "      <td>-1.731895</td>\n",
       "      <td>1.308751</td>\n",
       "      <td>18.469833</td>\n",
       "      <td>10.498316</td>\n",
       "      <td>0.7183</td>\n",
       "      <td>0.707055</td>\n",
       "    </tr>\n",
       "  </tbody>\n",
       "</table>\n",
       "</div>"
      ],
      "text/plain": [
       "     BookID  Num_pages  Ratings_count  Text_reviews_count  Publication_month  \\\n",
       "0 -1.731895   1.308751      18.469833           10.498316             0.7183   \n",
       "\n",
       "   Publication_year  \n",
       "0          0.707055  "
      ]
     },
     "execution_count": 61,
     "metadata": {},
     "output_type": "execute_result"
    }
   ],
   "source": [
    "# Обучаем StandardScaler на всей выборке и масштабируем\n",
    "cs11 = StandardScaler()\n",
    "data_cs11_scaled_temp = cs11.fit_transform(X_ALL)\n",
    "# формируем DataFrame на основе массива\n",
    "data_cs11_scaled = arr_to_df(data_cs11_scaled_temp)\n",
    "data_cs11_scaled.head(1)"
   ]
  },
  {
   "cell_type": "code",
   "execution_count": 62,
   "metadata": {},
   "outputs": [
    {
     "data": {
      "text/html": [
       "<div>\n",
       "<style scoped>\n",
       "    .dataframe tbody tr th:only-of-type {\n",
       "        vertical-align: middle;\n",
       "    }\n",
       "\n",
       "    .dataframe tbody tr th {\n",
       "        vertical-align: top;\n",
       "    }\n",
       "\n",
       "    .dataframe thead th {\n",
       "        text-align: right;\n",
       "    }\n",
       "</style>\n",
       "<table border=\"1\" class=\"dataframe\">\n",
       "  <thead>\n",
       "    <tr style=\"text-align: right;\">\n",
       "      <th></th>\n",
       "      <th>BookID</th>\n",
       "      <th>Num_pages</th>\n",
       "      <th>Ratings_count</th>\n",
       "      <th>Text_reviews_count</th>\n",
       "      <th>Publication_month</th>\n",
       "      <th>Publication_year</th>\n",
       "    </tr>\n",
       "  </thead>\n",
       "  <tbody>\n",
       "    <tr>\n",
       "      <th>0</th>\n",
       "      <td>0</td>\n",
       "      <td>652</td>\n",
       "      <td>2095690</td>\n",
       "      <td>27591</td>\n",
       "      <td>9</td>\n",
       "      <td>2006</td>\n",
       "    </tr>\n",
       "  </tbody>\n",
       "</table>\n",
       "</div>"
      ],
      "text/plain": [
       "   BookID  Num_pages  Ratings_count  Text_reviews_count  Publication_month  \\\n",
       "0       0        652        2095690               27591                  9   \n",
       "\n",
       "   Publication_year  \n",
       "0              2006  "
      ]
     },
     "execution_count": 62,
     "metadata": {},
     "output_type": "execute_result"
    }
   ],
   "source": [
    "X_ALL.head(1)"
   ]
  },
  {
   "cell_type": "code",
   "execution_count": 68,
   "metadata": {},
   "outputs": [
    {
     "data": {
      "image/png": "[encoded data removed]",
      "text/plain": [
       "<Figure size 1440x1080 with 4 Axes>"
      ]
     },
     "metadata": {
      "needs_background": "light"
     },
     "output_type": "display_data"
    }
   ],
   "source": [
    "draw_kde('BookID', 'Ratings_count', 'Text_reviews_count', data, data_cs11_scaled, 'до масштабирования', 'после масштабирования')"
   ]
  },
  {
   "cell_type": "code",
   "execution_count": 99,
   "metadata": {},
   "outputs": [],
   "source": [
    "# Обучаем StandardScaler на обучающей выборке \n",
    "# и масштабируем обучающую и тестовую выборки\n",
    "cs12 = StandardScaler()\n",
    "cs12.fit(X_train)\n",
    "data_cs12_scaled_train_temp = cs12.transform(X_train)\n",
    "data_cs12_scaled_test_temp = cs12.transform(X_test)\n",
    "# формируем DataFrame на основе массива\n",
    "data_cs12_scaled_train = arr_to_df(data_cs12_scaled_train_temp)\n",
    "data_cs12_scaled_test = arr_to_df(data_cs12_scaled_test_temp)"
   ]
  },
  {
   "cell_type": "code",
   "execution_count": 100,
   "metadata": {},
   "outputs": [
    {
     "name": "stderr",
     "output_type": "stream",
     "text": [
      "c:\\program files\\python37\\lib\\site-packages\\seaborn\\distributions.py:679: UserWarning: Passing a 2D dataset for a bivariate plot is deprecated in favor of kdeplot(x, y), and it will cause an error in future versions. Please update your code.\n",
      "  warnings.warn(warn_msg, UserWarning)\n"
     ]
    },
    {
     "data": {
      "image/png": "[encoded data removed]",
      "text/plain": [
       "<Figure size 864x360 with 2 Axes>"
      ]
     },
     "metadata": {
      "needs_background": "light"
     },
     "output_type": "display_data"
    }
   ],
   "source": [
    "# распределения для обучающей и тестовой выборки немного отличаются\n",
    "draw_kde(['Ratings_count', 'Text_reviews_count'], data_cs12_scaled_train, data_cs12_scaled_test, 'обучающая', 'тестовая')"
   ]
  },
  {
   "cell_type": "code",
   "execution_count": null,
   "metadata": {},
   "outputs": [],
   "source": [
    "# 2) "
   ]
  },
  {
   "cell_type": "code",
   "execution_count": null,
   "metadata": {},
   "outputs": [],
   "source": []
  },
  {
   "cell_type": "code",
   "execution_count": null,
   "metadata": {},
   "outputs": [],
   "source": [
    "# 3) "
   ]
  },
  {
   "cell_type": "code",
   "execution_count": null,
   "metadata": {},
   "outputs": [],
   "source": []
  },
  {
   "cell_type": "code",
   "execution_count": null,
   "metadata": {},
   "outputs": [],
   "source": [
    "# обработка выбросов для числовых признаков (по одному способу для удаления выбросов и для замены выбросов)"
   ]
  },
  {
   "cell_type": "code",
   "execution_count": null,
   "metadata": {},
   "outputs": [],
   "source": []
  },
  {
   "cell_type": "code",
   "execution_count": null,
   "metadata": {},
   "outputs": [],
   "source": [
    "# обработка по крайней мере одного нестандартного признака (который не является числовым или категориальным)"
   ]
  },
  {
   "cell_type": "code",
   "execution_count": null,
   "metadata": {},
   "outputs": [],
   "source": []
  },
  {
   "cell_type": "code",
   "execution_count": null,
   "metadata": {},
   "outputs": [],
   "source": [
    "# отбор признаков:\n",
    "## один метод из группы методов фильтрации (filter methods)"
   ]
  },
  {
   "cell_type": "code",
   "execution_count": null,
   "metadata": {},
   "outputs": [],
   "source": []
  },
  {
   "cell_type": "code",
   "execution_count": null,
   "metadata": {},
   "outputs": [],
   "source": [
    "# один метод из группы методов обертывания (wrapper methods)"
   ]
  },
  {
   "cell_type": "code",
   "execution_count": null,
   "metadata": {},
   "outputs": [],
   "source": []
  },
  {
   "cell_type": "code",
   "execution_count": null,
   "metadata": {},
   "outputs": [],
   "source": [
    "# один метод из группы методов вложений (embedded methods)"
   ]
  },
  {
   "cell_type": "code",
   "execution_count": null,
   "metadata": {},
   "outputs": [],
   "source": []
  },
  {
   "cell_type": "code",
   "execution_count": null,
   "metadata": {},
   "outputs": [],
   "source": []
  },
  {
   "cell_type": "code",
   "execution_count": null,
   "metadata": {},
   "outputs": [],
   "source": []
  },
  {
   "cell_type": "code",
   "execution_count": null,
   "metadata": {},
   "outputs": [],
   "source": []
  },
  {
   "cell_type": "code",
   "execution_count": null,
   "metadata": {},
   "outputs": [],
   "source": []
  },
  {
   "cell_type": "code",
   "execution_count": null,
   "metadata": {},
   "outputs": [],
   "source": []
  },
  {
   "cell_type": "code",
   "execution_count": null,
   "metadata": {},
   "outputs": [],
   "source": []
  },
  {
   "cell_type": "code",
   "execution_count": null,
   "metadata": {},
   "outputs": [],
   "source": []
  }
 ],
 "metadata": {
  "kernelspec": {
   "display_name": "Python 3",
   "language": "python",
   "name": "python3"
  },
  "language_info": {
   "codemirror_mode": {
    "name": "ipython",
    "version": 3
   },
   "file_extension": ".py",
   "mimetype": "text/x-python",
   "name": "python",
   "nbconvert_exporter": "python",
   "pygments_lexer": "ipython3",
   "version": "3.7.1"
  }
 },
 "nbformat": 4,
 "nbformat_minor": 2
}
